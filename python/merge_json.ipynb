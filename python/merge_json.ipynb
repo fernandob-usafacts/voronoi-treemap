{
 "cells": [
  {
   "cell_type": "code",
   "execution_count": 1,
   "metadata": {},
   "outputs": [],
   "source": [
    "import json\n",
    "import os"
   ]
  },
  {
   "cell_type": "code",
   "execution_count": 2,
   "metadata": {
    "scrolled": true
   },
   "outputs": [
    {
     "name": "stdout",
     "output_type": "stream",
     "text": [
      "treemap1.json\n",
      "treemap2.json\n",
      "treemap3.json\n",
      "treemap4.json\n"
     ]
    }
   ],
   "source": [
    "def get_size(size):\n",
    "    if isinstance(size[0], list):\n",
    "        return get_size(size[0])\n",
    "    else:\n",
    "        return size[0]\n",
    "    \n",
    "def get_vertices(vertices):\n",
    "    if len(vertices) == 1:\n",
    "        return []\n",
    "    else:\n",
    "        return list(map(lambda x: [x['x'][0], x['y'][0]], vertices))\n",
    "\n",
    "output = []\n",
    "\n",
    "path = './output/'\n",
    "files = [x for x in os.listdir(path) if x.endswith('.json')]\n",
    "files = sorted(files, key=lambda x: int(x.split('.')[0][7:]))\n",
    "for file in files[:4]:\n",
    "    print(file)\n",
    "    with open(os.path.join(path, file)) as f:\n",
    "        data = json.load(f)\n",
    "        for datum in data:\n",
    "            name = datum['name'][0]\n",
    "            filtered = list(filter(lambda x: x['name'] == name, output))\n",
    "            if len(filtered) == 0:\n",
    "                obj = {}\n",
    "                obj['name'] = name\n",
    "                obj['level'] = datum['level'][0]\n",
    "                obj['leaf'] = datum['leaf'][0]\n",
    "                obj['center'] = [[datum['x'][0], datum['y'][0]]]\n",
    "                obj['vertices'] = [get_vertices(datum['vertices'])]\n",
    "                obj['size'] = [get_size(datum['size'])]\n",
    "                obj['mchg'] = [datum['monthly_change'][0]]\n",
    "                obj['ychg'] = [datum['yearly_change'][0]]\n",
    "                output.append(obj)\n",
    "            else:\n",
    "                filtered[0]['center'].append([datum['x'][0], datum['y'][0]])\n",
    "                filtered[0]['vertices'].append(get_vertices(datum['vertices']))\n",
    "                filtered[0]['size'].append(get_size(datum['size']))\n",
    "                filtered[0]['mchg'].append(datum['monthly_change'][0])\n",
    "                filtered[0]['ychg'].append(datum['yearly_change'][0])\n",
    "#         print(data)\n",
    "        \n",
    "    \n",
    "        "
   ]
  },
  {
   "cell_type": "code",
   "execution_count": 62,
   "metadata": {},
   "outputs": [
    {
     "data": {
      "text/plain": [
       "284"
      ]
     },
     "execution_count": 62,
     "metadata": {},
     "output_type": "execute_result"
    }
   ],
   "source": [
    "len(output)"
   ]
  },
  {
   "cell_type": "code",
   "execution_count": 8,
   "metadata": {},
   "outputs": [],
   "source": [
    "with open('data_small.json', 'w') as output_file:\n",
    "    json_string = json.dumps(output, ensure_ascii=False)\n",
    "    output_file.write(json_string)"
   ]
  },
  {
   "cell_type": "code",
   "execution_count": null,
   "metadata": {},
   "outputs": [],
   "source": []
  }
 ],
 "metadata": {
  "kernelspec": {
   "display_name": "Python 3",
   "language": "python",
   "name": "python3"
  },
  "language_info": {
   "codemirror_mode": {
    "name": "ipython",
    "version": 3
   },
   "file_extension": ".py",
   "mimetype": "text/x-python",
   "name": "python",
   "nbconvert_exporter": "python",
   "pygments_lexer": "ipython3",
   "version": "3.8.13"
  }
 },
 "nbformat": 4,
 "nbformat_minor": 4
}
